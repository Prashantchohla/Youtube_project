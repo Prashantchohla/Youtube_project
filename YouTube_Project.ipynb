{
  "cells": [
    {
      "cell_type": "code",
      "execution_count": null,
      "metadata": {
        "id": "lyc3cujfhO4D"
      },
      "outputs": [],
      "source": [
        "import os\n",
        "import os\n",
        "from huggingface_hub import login\n",
        "\n",
        "# Load from environment variable (secure method)\n",
        "hf_token = os.getenv(\"HUGGINGFACE_API_ACCESS\")\n",
        "login(hf_token)"
      ]
    },
    {
      "cell_type": "code",
      "execution_count": null,
      "metadata": {
        "colab": {
          "base_uri": "https://localhost:8080/"
        },
        "id": "qpdRIBFljfwV",
        "outputId": "37ef113d-3236-476a-a682-a59b6c6b82da"
      },
      "outputs": [
        {
          "name": "stdout",
          "output_type": "stream",
          "text": [
            "Requirement already satisfied: langchain-huggingface in /usr/local/lib/python3.11/dist-packages (0.2.0)\n",
            "Requirement already satisfied: langchain-core<1.0.0,>=0.3.59 in /usr/local/lib/python3.11/dist-packages (from langchain-huggingface) (0.3.63)\n",
            "Requirement already satisfied: tokenizers>=0.19.1 in /usr/local/lib/python3.11/dist-packages (from langchain-huggingface) (0.21.1)\n",
            "Requirement already satisfied: transformers>=4.39.0 in /usr/local/lib/python3.11/dist-packages (from langchain-huggingface) (4.52.3)\n",
            "Requirement already satisfied: sentence-transformers>=2.6.0 in /usr/local/lib/python3.11/dist-packages (from langchain-huggingface) (4.1.0)\n",
            "Requirement already satisfied: huggingface-hub>=0.30.2 in /usr/local/lib/python3.11/dist-packages (from langchain-huggingface) (0.32.2)\n",
            "Requirement already satisfied: filelock in /usr/local/lib/python3.11/dist-packages (from huggingface-hub>=0.30.2->langchain-huggingface) (3.18.0)\n",
            "Requirement already satisfied: fsspec>=2023.5.0 in /usr/local/lib/python3.11/dist-packages (from huggingface-hub>=0.30.2->langchain-huggingface) (2025.3.2)\n",
            "Requirement already satisfied: packaging>=20.9 in /usr/local/lib/python3.11/dist-packages (from huggingface-hub>=0.30.2->langchain-huggingface) (24.2)\n",
            "Requirement already satisfied: pyyaml>=5.1 in /usr/local/lib/python3.11/dist-packages (from huggingface-hub>=0.30.2->langchain-huggingface) (6.0.2)\n",
            "Requirement already satisfied: requests in /usr/local/lib/python3.11/dist-packages (from huggingface-hub>=0.30.2->langchain-huggingface) (2.32.3)\n",
            "Requirement already satisfied: tqdm>=4.42.1 in /usr/local/lib/python3.11/dist-packages (from huggingface-hub>=0.30.2->langchain-huggingface) (4.67.1)\n",
            "Requirement already satisfied: typing-extensions>=3.7.4.3 in /usr/local/lib/python3.11/dist-packages (from huggingface-hub>=0.30.2->langchain-huggingface) (4.13.2)\n",
            "Requirement already satisfied: hf-xet<2.0.0,>=1.1.2 in /usr/local/lib/python3.11/dist-packages (from huggingface-hub>=0.30.2->langchain-huggingface) (1.1.2)\n",
            "Requirement already satisfied: langsmith<0.4,>=0.1.126 in /usr/local/lib/python3.11/dist-packages (from langchain-core<1.0.0,>=0.3.59->langchain-huggingface) (0.3.43)\n",
            "Requirement already satisfied: tenacity!=8.4.0,<10.0.0,>=8.1.0 in /usr/local/lib/python3.11/dist-packages (from langchain-core<1.0.0,>=0.3.59->langchain-huggingface) (9.1.2)\n",
            "Requirement already satisfied: jsonpatch<2.0,>=1.33 in /usr/local/lib/python3.11/dist-packages (from langchain-core<1.0.0,>=0.3.59->langchain-huggingface) (1.33)\n",
            "Requirement already satisfied: pydantic>=2.7.4 in /usr/local/lib/python3.11/dist-packages (from langchain-core<1.0.0,>=0.3.59->langchain-huggingface) (2.11.5)\n",
            "Requirement already satisfied: torch>=1.11.0 in /usr/local/lib/python3.11/dist-packages (from sentence-transformers>=2.6.0->langchain-huggingface) (2.6.0+cu124)\n",
            "Requirement already satisfied: scikit-learn in /usr/local/lib/python3.11/dist-packages (from sentence-transformers>=2.6.0->langchain-huggingface) (1.6.1)\n",
            "Requirement already satisfied: scipy in /usr/local/lib/python3.11/dist-packages (from sentence-transformers>=2.6.0->langchain-huggingface) (1.15.3)\n",
            "Requirement already satisfied: Pillow in /usr/local/lib/python3.11/dist-packages (from sentence-transformers>=2.6.0->langchain-huggingface) (11.2.1)\n",
            "Requirement already satisfied: numpy>=1.17 in /usr/local/lib/python3.11/dist-packages (from transformers>=4.39.0->langchain-huggingface) (2.0.2)\n",
            "Requirement already satisfied: regex!=2019.12.17 in /usr/local/lib/python3.11/dist-packages (from transformers>=4.39.0->langchain-huggingface) (2024.11.6)\n",
            "Requirement already satisfied: safetensors>=0.4.3 in /usr/local/lib/python3.11/dist-packages (from transformers>=4.39.0->langchain-huggingface) (0.5.3)\n",
            "Requirement already satisfied: jsonpointer>=1.9 in /usr/local/lib/python3.11/dist-packages (from jsonpatch<2.0,>=1.33->langchain-core<1.0.0,>=0.3.59->langchain-huggingface) (3.0.0)\n",
            "Requirement already satisfied: httpx<1,>=0.23.0 in /usr/local/lib/python3.11/dist-packages (from langsmith<0.4,>=0.1.126->langchain-core<1.0.0,>=0.3.59->langchain-huggingface) (0.28.1)\n",
            "Requirement already satisfied: orjson<4.0.0,>=3.9.14 in /usr/local/lib/python3.11/dist-packages (from langsmith<0.4,>=0.1.126->langchain-core<1.0.0,>=0.3.59->langchain-huggingface) (3.10.18)\n",
            "Requirement already satisfied: requests-toolbelt<2.0.0,>=1.0.0 in /usr/local/lib/python3.11/dist-packages (from langsmith<0.4,>=0.1.126->langchain-core<1.0.0,>=0.3.59->langchain-huggingface) (1.0.0)\n",
            "Requirement already satisfied: zstandard<0.24.0,>=0.23.0 in /usr/local/lib/python3.11/dist-packages (from langsmith<0.4,>=0.1.126->langchain-core<1.0.0,>=0.3.59->langchain-huggingface) (0.23.0)\n",
            "Requirement already satisfied: annotated-types>=0.6.0 in /usr/local/lib/python3.11/dist-packages (from pydantic>=2.7.4->langchain-core<1.0.0,>=0.3.59->langchain-huggingface) (0.7.0)\n",
            "Requirement already satisfied: pydantic-core==2.33.2 in /usr/local/lib/python3.11/dist-packages (from pydantic>=2.7.4->langchain-core<1.0.0,>=0.3.59->langchain-huggingface) (2.33.2)\n",
            "Requirement already satisfied: typing-inspection>=0.4.0 in /usr/local/lib/python3.11/dist-packages (from pydantic>=2.7.4->langchain-core<1.0.0,>=0.3.59->langchain-huggingface) (0.4.1)\n",
            "Requirement already satisfied: charset-normalizer<4,>=2 in /usr/local/lib/python3.11/dist-packages (from requests->huggingface-hub>=0.30.2->langchain-huggingface) (3.4.2)\n",
            "Requirement already satisfied: idna<4,>=2.5 in /usr/local/lib/python3.11/dist-packages (from requests->huggingface-hub>=0.30.2->langchain-huggingface) (3.10)\n",
            "Requirement already satisfied: urllib3<3,>=1.21.1 in /usr/local/lib/python3.11/dist-packages (from requests->huggingface-hub>=0.30.2->langchain-huggingface) (2.4.0)\n",
            "Requirement already satisfied: certifi>=2017.4.17 in /usr/local/lib/python3.11/dist-packages (from requests->huggingface-hub>=0.30.2->langchain-huggingface) (2025.4.26)\n",
            "Requirement already satisfied: networkx in /usr/local/lib/python3.11/dist-packages (from torch>=1.11.0->sentence-transformers>=2.6.0->langchain-huggingface) (3.5)\n",
            "Requirement already satisfied: jinja2 in /usr/local/lib/python3.11/dist-packages (from torch>=1.11.0->sentence-transformers>=2.6.0->langchain-huggingface) (3.1.6)\n",
            "Requirement already satisfied: nvidia-cuda-nvrtc-cu12==12.4.127 in /usr/local/lib/python3.11/dist-packages (from torch>=1.11.0->sentence-transformers>=2.6.0->langchain-huggingface) (12.4.127)\n",
            "Requirement already satisfied: nvidia-cuda-runtime-cu12==12.4.127 in /usr/local/lib/python3.11/dist-packages (from torch>=1.11.0->sentence-transformers>=2.6.0->langchain-huggingface) (12.4.127)\n",
            "Requirement already satisfied: nvidia-cuda-cupti-cu12==12.4.127 in /usr/local/lib/python3.11/dist-packages (from torch>=1.11.0->sentence-transformers>=2.6.0->langchain-huggingface) (12.4.127)\n",
            "Requirement already satisfied: nvidia-cudnn-cu12==9.1.0.70 in /usr/local/lib/python3.11/dist-packages (from torch>=1.11.0->sentence-transformers>=2.6.0->langchain-huggingface) (9.1.0.70)\n",
            "Requirement already satisfied: nvidia-cublas-cu12==12.4.5.8 in /usr/local/lib/python3.11/dist-packages (from torch>=1.11.0->sentence-transformers>=2.6.0->langchain-huggingface) (12.4.5.8)\n",
            "Requirement already satisfied: nvidia-cufft-cu12==11.2.1.3 in /usr/local/lib/python3.11/dist-packages (from torch>=1.11.0->sentence-transformers>=2.6.0->langchain-huggingface) (11.2.1.3)\n",
            "Requirement already satisfied: nvidia-curand-cu12==10.3.5.147 in /usr/local/lib/python3.11/dist-packages (from torch>=1.11.0->sentence-transformers>=2.6.0->langchain-huggingface) (10.3.5.147)\n",
            "Requirement already satisfied: nvidia-cusolver-cu12==11.6.1.9 in /usr/local/lib/python3.11/dist-packages (from torch>=1.11.0->sentence-transformers>=2.6.0->langchain-huggingface) (11.6.1.9)\n",
            "Requirement already satisfied: nvidia-cusparse-cu12==12.3.1.170 in /usr/local/lib/python3.11/dist-packages (from torch>=1.11.0->sentence-transformers>=2.6.0->langchain-huggingface) (12.3.1.170)\n",
            "Requirement already satisfied: nvidia-cusparselt-cu12==0.6.2 in /usr/local/lib/python3.11/dist-packages (from torch>=1.11.0->sentence-transformers>=2.6.0->langchain-huggingface) (0.6.2)\n",
            "Requirement already satisfied: nvidia-nccl-cu12==2.21.5 in /usr/local/lib/python3.11/dist-packages (from torch>=1.11.0->sentence-transformers>=2.6.0->langchain-huggingface) (2.21.5)\n",
            "Requirement already satisfied: nvidia-nvtx-cu12==12.4.127 in /usr/local/lib/python3.11/dist-packages (from torch>=1.11.0->sentence-transformers>=2.6.0->langchain-huggingface) (12.4.127)\n",
            "Requirement already satisfied: nvidia-nvjitlink-cu12==12.4.127 in /usr/local/lib/python3.11/dist-packages (from torch>=1.11.0->sentence-transformers>=2.6.0->langchain-huggingface) (12.4.127)\n",
            "Requirement already satisfied: triton==3.2.0 in /usr/local/lib/python3.11/dist-packages (from torch>=1.11.0->sentence-transformers>=2.6.0->langchain-huggingface) (3.2.0)\n",
            "Requirement already satisfied: sympy==1.13.1 in /usr/local/lib/python3.11/dist-packages (from torch>=1.11.0->sentence-transformers>=2.6.0->langchain-huggingface) (1.13.1)\n",
            "Requirement already satisfied: mpmath<1.4,>=1.1.0 in /usr/local/lib/python3.11/dist-packages (from sympy==1.13.1->torch>=1.11.0->sentence-transformers>=2.6.0->langchain-huggingface) (1.3.0)\n",
            "Requirement already satisfied: joblib>=1.2.0 in /usr/local/lib/python3.11/dist-packages (from scikit-learn->sentence-transformers>=2.6.0->langchain-huggingface) (1.5.1)\n",
            "Requirement already satisfied: threadpoolctl>=3.1.0 in /usr/local/lib/python3.11/dist-packages (from scikit-learn->sentence-transformers>=2.6.0->langchain-huggingface) (3.6.0)\n",
            "Requirement already satisfied: anyio in /usr/local/lib/python3.11/dist-packages (from httpx<1,>=0.23.0->langsmith<0.4,>=0.1.126->langchain-core<1.0.0,>=0.3.59->langchain-huggingface) (4.9.0)\n",
            "Requirement already satisfied: httpcore==1.* in /usr/local/lib/python3.11/dist-packages (from httpx<1,>=0.23.0->langsmith<0.4,>=0.1.126->langchain-core<1.0.0,>=0.3.59->langchain-huggingface) (1.0.9)\n",
            "Requirement already satisfied: h11>=0.16 in /usr/local/lib/python3.11/dist-packages (from httpcore==1.*->httpx<1,>=0.23.0->langsmith<0.4,>=0.1.126->langchain-core<1.0.0,>=0.3.59->langchain-huggingface) (0.16.0)\n",
            "Requirement already satisfied: MarkupSafe>=2.0 in /usr/local/lib/python3.11/dist-packages (from jinja2->torch>=1.11.0->sentence-transformers>=2.6.0->langchain-huggingface) (3.0.2)\n",
            "Requirement already satisfied: sniffio>=1.1 in /usr/local/lib/python3.11/dist-packages (from anyio->httpx<1,>=0.23.0->langsmith<0.4,>=0.1.126->langchain-core<1.0.0,>=0.3.59->langchain-huggingface) (1.3.1)\n"
          ]
        }
      ],
      "source": [
        "pip install -U langchain-huggingface"
      ]
    },
    {
      "cell_type": "code",
      "execution_count": null,
      "metadata": {
        "id": "WZIHO4VahOiP"
      },
      "outputs": [],
      "source": [
        "!pip install -q \\\n",
        "    langchain \\\n",
        "    langchain-community \\\n",
        "    langchain-core \\\n",
        "    langchain-text-splitters \\\n",
        "    langchainhub \\\n",
        "    chromadb \\\n",
        "    huggingface_hub \\\n",
        "    sentence-transformers \\\n",
        "    youtube-transcript-api"
      ]
    },
    {
      "cell_type": "code",
      "execution_count": null,
      "metadata": {
        "id": "RKTivGS8cOt3"
      },
      "outputs": [],
      "source": [
        "from youtube_transcript_api import YouTubeTranscriptApi, TranscriptsDisabled\n",
        "from langchain_core.documents import Document\n",
        "from langchain.text_splitter import RecursiveCharacterTextSplitter\n",
        "from langchain_huggingface import HuggingFaceEmbeddings\n",
        "from langchain_community.vectorstores import Chroma\n",
        "from langchain_huggingface import HuggingFaceEndpoint\n",
        "from langchain_core.prompts import PromptTemplate\n",
        "from langchain_core.runnables import RunnableParallel, RunnablePassthrough, RunnableLambda\n",
        "from langchain_core.output_parsers import StrOutputParser"
      ]
    },
    {
      "cell_type": "code",
      "execution_count": null,
      "metadata": {
        "colab": {
          "base_uri": "https://localhost:8080/"
        },
        "id": "oR73xbgxibx2",
        "outputId": "213191d3-1e84-49a5-e0f8-a0e481bb3658"
      },
      "outputs": [
        {
          "name": "stdout",
          "output_type": "stream",
          "text": [
            "hey everyone welcome back to the channel i hope you guys are doing extremely well so today we will be learning about multiple recursion calls till now you have seen recursion where we had only single uh recursion calls basically we were learning something as there was a function and inside this function only a single function was called again so over here we will be learning something of this pattern where probably we will have a function and there will be multiple function calls yes this is two times so the function is called twice or thrice or four times so you'll be learning multiple recursion calls now generically in all the problems that we'll be solving there might be two times three times four times and so on so in this video i'll be teaching you how to how to have two multiple recursion calls and going forward you will be seeing problems like end queen and other problems where you'll see multiple not only two n recursion calls being happening inside a function okay so to understand multiple recursion calls the best example is doing the fibonacci number now what is fibonacci number let's first understand basically uh the first couple of fibonacci numbers are zero and one so the next fibonacci number will be last one and the previous class so zero plus one will give you one and the next fibonacci number will be this one plus this one that's two next fibonacci number will be this one and this two three next you energy number will be this two and this three plus five next fibonacci number will be this three and this five which is definitely eight next will be 13 then it'll be 21 34 and so on okay now uh assume i call this as the zeroth fibonacci first fibonacci second fibonacci third fibonacci and so on i call it like this now the question is very straightforward you'll be given a problem you'll be given an n and you need to write a recursive function yes you need to write a recursive function which tells you which is the nth fibonacci number for an example i say f of three so it is the third fibonacci number two if i say f of four that's three if it's f of five that's five so you have to give me the nth fibonacci number now generally what did i say how did this five come up if this is f of let's say this is f of five this f of five was indeed what f of 4 plus f of 3 that is what this f of 5 was all about f of 4 plus f of 3 which is the previous one and the one before that on adding them we were getting the f of 5 correct so generally you could have done this easily using for loop you could be like we can probably write f of 0 as 0 f of 1 as 1 and then you can easily run a loop from 2 till n and you can write f of i equal to f of i minus 1 plus f of i minus 2 it's a very simple simpler linear version that you can write using iterative for loop correct but obviously we are not here to solve fibonacci number over here we are to we have to learn recursion and that is where uh something like fibonacci plays a very important part because it's going to teach you recursion a very classical fashion so we did learn that in order to find f of n we have to know f of n minus 1 and we have to know f of n minus 2 correct that is something we did learn so in case our function takes n we know one thing for sure if n is anything great uh lesser than equal to one if it is n is zero then the answer is zero because the zero fibonacci number is zero if n is one the first fibonacci number is one we definitely know that correct so can i say in this case i will be returning n i mean there is no doubt in this going across what is a fibonacci of n we can be like fibonacci of n is nothing but f of n minus 1 plus f of n minus 2 without any doubt this is the answer because if i'm looking for fibonacci of n if i'm looking for fibonacci of n i have to know uh f of n minus 1 i have to know f of n minus 2. there's absolutely no doubt in it but how does this work uh if we call a couple of recursive functions do they go simultaneously how does this work in recursion so let's understand this by again taking a very very simple example so what i'll do is i'll re rewrite it to basically explain you how this works so assume i say last is f of n minus 1 i say a second last is equal to f of n minus 2 and then i say why don't you return last plus second last okay so if i write something like this and uh then i simply write a main where in the main i say that okay let's uh pre-assume let's take n equal to uh 4 that should make sense and we can say print fibonacci of four what if we write something like this print fibonacci of four and print fibonacci of n so basically this is going to call this guy with a value 4 this will not be executed because the value of n is 4 now if you carefully observe there are a couple of recursion calls one is this well the other one is this do they go simultaneously no first this guy will go yes first this guy will go come back then this guy will go and then come back so it happens uh what to say line by line like whichever recursion call is made first it will go and call it and after that it will go for the next one that is how recursion works right to understand this in deep let's uh let's just take this example so over here i can say this call will go and if this call goes this will call f of 3 because n minus 1 for this 4 is nothing but 3 correct so f of 3 is made now if f of 3 is made again the base case will not be executed let's understand the b scale is not executed and again the last call this time is f of two correct because minus one the second last is definitely f of one and then you are returning last plus second last so remember this recursion call is being done so our stack space will wait over here like we will be waiting at this line we will not be going beneath this line we will be waiting the stack space will keep this function saying that okay i'm gonna wait till this doesn't gives me this answer perfect now f of three will be like okay this is not executed f of two will be executed so again f of two will be executed and it will be like let's call f of 2 so the if line is not executed last will be f of what will be last f 1 will be second last f 0 correct so and then they can return last plus second last so if i'm calling last f of one will be called so whenever f of one is called if n lesser than equal to one gets executed you need to understand if n lesser than equal to one gets executed and it returns the value n so this basically gives you a value one because that's how it is and you can say instead of f of one now you can write one so one of the recursion calls was done and it did return you one now this recursion call will go and again call one more same function the same function in the memory but this time it will pass ns0 again the if n lesser than equal to one will be executed and this will return uh zero so this guy is returned as zero so i can write second last as zero thereby last plus second last this is one this is zero plus gives you a value 1 plus gives you a value 1 so i can say instead of f of 2 i can write 1 last is equal to 1 now coming across to second last f one again f of one will be called remember this again f of one will be called and this time again the same thing n lesser than equal to one return one will happen so this guy will return one so this guy will be getting one so last got one second last as well as got one so one plus one gives you two so what you got over here is two correct now over here this is the case where you'll be doing for f of 2 because f of n minus 2 will be 4 minus 2 that's 2. again you will go and call these f of 2s f of 2s will go and call the last one as f 1 the second last as f of zero remember the if base condition does not execute so f of one will be called it will return one f of zero will be called it will return zero thereby returning of one plus zero last plus second last thereby this returns 1 so 2 plus 1 gives you 3 thereby f of 4 is printed as 3 because 2 plus 1 is 3 and it returns you three that's how the recursion works so if i just keep a very very uh so this is how you can see the recursion entire recursion call being happening right so i hope i hope you have got a fair bit of idea about how recursion calls will be worked always remember yes always remember if there are multiple recursion calls to be done if there are multiple recursion calls this will happen come back this will happen come back this will happen come back that's how recursion calls work one is ended then the next comes one is ended then the next comes before ending the previous recursion this can never ever execute so if i if i try to uh for this particular stuff is for this particular stuff if i uh for this particular stuff if i wish to draw the recursion tree it so so if you see this it's in the this level horizontal so the recursion tree is generally vertical so you can easily draw it see this is the ff4 so you can write f of 4 so let's quickly erase this so that i can write it over here so you can write f 4 whom did f of 4 called let's see f of 4 called uh whom it called f 3 was here and f 2 was here so it did call f of 3 and it did call f of 2 correct and going forward f of three called f of two and f of one f of two called f of one f of zero but remember one thing in recursion how does this happen f of four has couple of recursion calls f of three and f of two but which one gets executed first this one gets executed first so f of three is executed at the first for f of three who are the recursion calls f of two and f of one but who is executed first f 2 so please execute f of 2 first which is f 1 and f of 0 again among these both recursion calls which one is executed first f 1 so f of 1 indeed returned you a one f of zero returned you were zero so one plus zero this guy last plus second last give you one f of one returned a one so f of three got one from last second last got one so this returned you two similarly f of two will be done this gives you one this gives you zero so one plus zero will be one so two plus one will be done which gets you an ultimate answer of three this is how you can draw the recursion tree remember this we will be drawing recursion trees in tougher problems i can't like it is practically impossible to write uh every time the entire function and show you how it is being done it's practically impossible to do this so i will be writing in this fashion going forward so please please uh try to relate the horizontal uh programmatic call to the vertical recursion it's very important to relate it it's very simple f of four whom does it call you just have to relate that for four called called last and second last so just related second last last and second last try to relate the horizontal with the vertical recursion tree okay i hope that makes uh sense so if i try to code this uh super quick it'll be like intf of int n and then i can be like if n is less than equal to one you can simply return n or else you can say there will be a last of f of n minus 1 there will be a second last of f of n minus 2 and then you can return last plus second last correct and over here you can definitely uh print f of four if you wish to and this will give you the answer you see over here you got the answers three very simple and straightforward but what about the time complexity this is a very very critical thing let's understand the time complexity how many recursion calls did you made for n equal to four let's see first recursion call second recursion call third recursion call fourth recursion call fifth recursion call sixth recursion call seventh recursion call eighth recursion call ninth recursion call it's definitely not four recursion calls it's way way beyond that correct now if i'm asking you for every n how many recursion calls were you making you'll be like i was making a couple of recursion calls i will like make sense because for four uh you made for three and four two it it is not a unidirectional recursion call it's kind of bi-directional when you call a couple of guys so for every n you're calling two guys so for the next n minus one again you call two guys for the next n minus two again you call two guys so for every one you're calling two two two two two so can i say it's like two to the power n will be the time complexity not near not exactly why because uh from four you called for three and the other one was one lesser than three thereby it's not exactly two to the power n but you can say it's near about two to the power n which is generically known as exponential in nature if you did not understand let's understand by recursion tree see this was the first level this guy called couple of guys correct again this guy called couple of guys so if one guy calls couple and the other guy again calls couple so it's twice into twice into twice what this uh try to draw recursion trees you'll understand so if every guy is calling twice and it's like tree type it's going to be 2 into 2 into 2 into 2 which is 2 to the power n the only reason it's not like for 4 it isn't like 2 to the power 4 equal to 16 and it is 9 recursion calls the only reason is because from 4 you're calling through 3 and then you're calling it to two down level like from four you're going to two so for every time you're like going to uh twice down there by it's not exactly two to the power n but you can see it's near about exponential in nature so this can be done using dynamic programming where you can trim down but as of now i'll not be giant programming that's coming next but this should be understandable why it is true to the power n okay just in case you still have doubts put that into the comment section put that into the comment section i will definitely reply and yes if you have understood multiple recursion calls please please please make sure you like this video and if you're new to the channel please do consider subscribing please please do consider subscribing and yeah with this uh let's wrap up this video bye-bye [Music]\n",
            "Transcript Loaded ✅\n"
          ]
        }
      ],
      "source": [
        "# step2 document Ingestion\n",
        "# video_id = \"cTP58McPp9w\"\n",
        "# try:\n",
        "#      # If you don’t care which language, this returns the “best” one\n",
        "#     transcript_list = YouTubeTranscriptApi.get_transcript(video_id, languages=[\"en\"])\n",
        "#     transcript = \" \".join(chunk[\"text\"] for chunk in transcript_list)\n",
        "#     print(\"Transcript Loaded ✅\")\n",
        "#     documents = [Document(page_content=transcript, metadata={\"source\": f\"https://youtube.com/watch?v={video_id}\"})]\n",
        "# except TranscriptsDisabled:\n",
        "#     print(\"No captions available for this video.\")\n",
        "#     documents = []\n",
        "\n",
        "# splitter = RecursiveCharacterTextSplitter(chunk_size=1000, chunk_overlap=200)\n",
        "# chunks = splitter.split_documents(documents)\n",
        "\n",
        "# step2 document Ingestion\n",
        "video_id = \"kvRjNm4rVBE\"\n",
        "try:\n",
        "     # If you don’t care which language, this returns the “best” one\n",
        "    transcript_list = YouTubeTranscriptApi.get_transcript(video_id, languages=[\"en\"])\n",
        "\n",
        "    # Check if transcript_list is empty\n",
        "    if not transcript_list:\n",
        "        print(f\"No English captions available for video ID: {video_id}.\")\n",
        "        documents = []\n",
        "    else:\n",
        "        transcript = \" \".join(chunk[\"text\"] for chunk in transcript_list)\n",
        "        print(transcript)\n",
        "        print(\"Transcript Loaded ✅\")\n",
        "        documents = [Document(page_content=transcript, metadata={\"source\": f\"https://youtube.com/watch?v={video_id}\"})]\n",
        "\n",
        "except TranscriptsDisabled:\n",
        "    print(\"No captions available for this video.\")\n",
        "    documents = []\n",
        "except Exception as e:\n",
        "    # Catch any other potential errors during transcript retrieval\n",
        "    print(f\"An error occurred while fetching the transcript: {e}\")\n",
        "    documents = []\n",
        "\n",
        "\n",
        "splitter = RecursiveCharacterTextSplitter(chunk_size=1000, chunk_overlap=200)\n",
        "chunks = splitter.split_documents(documents)"
      ]
    },
    {
      "cell_type": "code",
      "execution_count": null,
      "metadata": {
        "colab": {
          "base_uri": "https://localhost:8080/",
          "height": 339
        },
        "id": "0WDG4rs4ikJX",
        "outputId": "52f971d3-131c-494e-c2e7-31ae24645ea0"
      },
      "outputs": [
        {
          "ename": "InternalError",
          "evalue": "Query error: Database error: error returned from database: (code: 1032) attempt to write a readonly database",
          "output_type": "error",
          "traceback": [
            "\u001b[0;31m---------------------------------------------------------------------------\u001b[0m",
            "\u001b[0;31mInternalError\u001b[0m                             Traceback (most recent call last)",
            "\u001b[0;32m<ipython-input-167-7d183048a585>\u001b[0m in \u001b[0;36m<cell line: 0>\u001b[0;34m()\u001b[0m\n\u001b[1;32m      9\u001b[0m \u001b[0;31m# Step 5: Create new vectorstore\u001b[0m\u001b[0;34m\u001b[0m\u001b[0;34m\u001b[0m\u001b[0m\n\u001b[1;32m     10\u001b[0m \u001b[0membedding_model\u001b[0m \u001b[0;34m=\u001b[0m \u001b[0mHuggingFaceEmbeddings\u001b[0m\u001b[0;34m(\u001b[0m\u001b[0mmodel_name\u001b[0m\u001b[0;34m=\u001b[0m\u001b[0;34m\"sentence-transformers/all-MiniLM-L6-v2\"\u001b[0m\u001b[0;34m)\u001b[0m\u001b[0;34m\u001b[0m\u001b[0;34m\u001b[0m\u001b[0m\n\u001b[0;32m---> 11\u001b[0;31m \u001b[0mvectorstore\u001b[0m \u001b[0;34m=\u001b[0m \u001b[0mChroma\u001b[0m\u001b[0;34m.\u001b[0m\u001b[0mfrom_documents\u001b[0m\u001b[0;34m(\u001b[0m\u001b[0mchunks\u001b[0m\u001b[0;34m,\u001b[0m \u001b[0membedding\u001b[0m\u001b[0;34m=\u001b[0m\u001b[0membedding_model\u001b[0m\u001b[0;34m,\u001b[0m \u001b[0mpersist_directory\u001b[0m\u001b[0;34m=\u001b[0m\u001b[0mpersist_directory\u001b[0m\u001b[0;34m)\u001b[0m\u001b[0;34m\u001b[0m\u001b[0;34m\u001b[0m\u001b[0m\n\u001b[0m\u001b[1;32m     12\u001b[0m \u001b[0mvectorstore\u001b[0m\u001b[0;34m.\u001b[0m\u001b[0mpersist\u001b[0m\u001b[0;34m(\u001b[0m\u001b[0;34m)\u001b[0m\u001b[0;34m\u001b[0m\u001b[0;34m\u001b[0m\u001b[0m\n",
            "\u001b[0;32m/usr/local/lib/python3.11/dist-packages/langchain_community/vectorstores/chroma.py\u001b[0m in \u001b[0;36mfrom_documents\u001b[0;34m(cls, documents, embedding, ids, collection_name, persist_directory, client_settings, client, collection_metadata, **kwargs)\u001b[0m\n\u001b[1;32m    885\u001b[0m         \u001b[0mtexts\u001b[0m \u001b[0;34m=\u001b[0m \u001b[0;34m[\u001b[0m\u001b[0mdoc\u001b[0m\u001b[0;34m.\u001b[0m\u001b[0mpage_content\u001b[0m \u001b[0;32mfor\u001b[0m \u001b[0mdoc\u001b[0m \u001b[0;32min\u001b[0m \u001b[0mdocuments\u001b[0m\u001b[0;34m]\u001b[0m\u001b[0;34m\u001b[0m\u001b[0;34m\u001b[0m\u001b[0m\n\u001b[1;32m    886\u001b[0m         \u001b[0mmetadatas\u001b[0m \u001b[0;34m=\u001b[0m \u001b[0;34m[\u001b[0m\u001b[0mdoc\u001b[0m\u001b[0;34m.\u001b[0m\u001b[0mmetadata\u001b[0m \u001b[0;32mfor\u001b[0m \u001b[0mdoc\u001b[0m \u001b[0;32min\u001b[0m \u001b[0mdocuments\u001b[0m\u001b[0;34m]\u001b[0m\u001b[0;34m\u001b[0m\u001b[0;34m\u001b[0m\u001b[0m\n\u001b[0;32m--> 887\u001b[0;31m         return cls.from_texts(\n\u001b[0m\u001b[1;32m    888\u001b[0m             \u001b[0mtexts\u001b[0m\u001b[0;34m=\u001b[0m\u001b[0mtexts\u001b[0m\u001b[0;34m,\u001b[0m\u001b[0;34m\u001b[0m\u001b[0;34m\u001b[0m\u001b[0m\n\u001b[1;32m    889\u001b[0m             \u001b[0membedding\u001b[0m\u001b[0;34m=\u001b[0m\u001b[0membedding\u001b[0m\u001b[0;34m,\u001b[0m\u001b[0;34m\u001b[0m\u001b[0;34m\u001b[0m\u001b[0m\n",
            "\u001b[0;32m/usr/local/lib/python3.11/dist-packages/langchain_community/vectorstores/chroma.py\u001b[0m in \u001b[0;36mfrom_texts\u001b[0;34m(cls, texts, embedding, metadatas, ids, collection_name, persist_directory, client_settings, client, collection_metadata, **kwargs)\u001b[0m\n\u001b[1;32m    841\u001b[0m                 \u001b[0mdocuments\u001b[0m\u001b[0;34m=\u001b[0m\u001b[0mtexts\u001b[0m\u001b[0;34m,\u001b[0m\u001b[0;34m\u001b[0m\u001b[0;34m\u001b[0m\u001b[0m\n\u001b[1;32m    842\u001b[0m             ):\n\u001b[0;32m--> 843\u001b[0;31m                 chroma_collection.add_texts(\n\u001b[0m\u001b[1;32m    844\u001b[0m                     \u001b[0mtexts\u001b[0m\u001b[0;34m=\u001b[0m\u001b[0mbatch\u001b[0m\u001b[0;34m[\u001b[0m\u001b[0;36m3\u001b[0m\u001b[0;34m]\u001b[0m \u001b[0;32mif\u001b[0m \u001b[0mbatch\u001b[0m\u001b[0;34m[\u001b[0m\u001b[0;36m3\u001b[0m\u001b[0;34m]\u001b[0m \u001b[0;32melse\u001b[0m \u001b[0;34m[\u001b[0m\u001b[0;34m]\u001b[0m\u001b[0;34m,\u001b[0m\u001b[0;34m\u001b[0m\u001b[0;34m\u001b[0m\u001b[0m\n\u001b[1;32m    845\u001b[0m                     \u001b[0mmetadatas\u001b[0m\u001b[0;34m=\u001b[0m\u001b[0mbatch\u001b[0m\u001b[0;34m[\u001b[0m\u001b[0;36m2\u001b[0m\u001b[0;34m]\u001b[0m \u001b[0;32mif\u001b[0m \u001b[0mbatch\u001b[0m\u001b[0;34m[\u001b[0m\u001b[0;36m2\u001b[0m\u001b[0;34m]\u001b[0m \u001b[0;32melse\u001b[0m \u001b[0;32mNone\u001b[0m\u001b[0;34m,\u001b[0m\u001b[0;34m\u001b[0m\u001b[0;34m\u001b[0m\u001b[0m\n",
            "\u001b[0;32m/usr/local/lib/python3.11/dist-packages/langchain_community/vectorstores/chroma.py\u001b[0m in \u001b[0;36madd_texts\u001b[0;34m(self, texts, metadatas, ids, **kwargs)\u001b[0m\n\u001b[1;32m    297\u001b[0m                 \u001b[0mids_with_metadata\u001b[0m \u001b[0;34m=\u001b[0m \u001b[0;34m[\u001b[0m\u001b[0mids\u001b[0m\u001b[0;34m[\u001b[0m\u001b[0midx\u001b[0m\u001b[0;34m]\u001b[0m \u001b[0;32mfor\u001b[0m \u001b[0midx\u001b[0m \u001b[0;32min\u001b[0m \u001b[0mnon_empty_ids\u001b[0m\u001b[0;34m]\u001b[0m\u001b[0;34m\u001b[0m\u001b[0;34m\u001b[0m\u001b[0m\n\u001b[1;32m    298\u001b[0m                 \u001b[0;32mtry\u001b[0m\u001b[0;34m:\u001b[0m\u001b[0;34m\u001b[0m\u001b[0;34m\u001b[0m\u001b[0m\n\u001b[0;32m--> 299\u001b[0;31m                     self._collection.upsert(\n\u001b[0m\u001b[1;32m    300\u001b[0m                         \u001b[0mmetadatas\u001b[0m\u001b[0;34m=\u001b[0m\u001b[0mmetadatas\u001b[0m\u001b[0;34m,\u001b[0m\u001b[0;34m\u001b[0m\u001b[0;34m\u001b[0m\u001b[0m\n\u001b[1;32m    301\u001b[0m                         \u001b[0membeddings\u001b[0m\u001b[0;34m=\u001b[0m\u001b[0membeddings_with_metadatas\u001b[0m\u001b[0;34m,\u001b[0m\u001b[0;34m\u001b[0m\u001b[0;34m\u001b[0m\u001b[0m\n",
            "\u001b[0;32m/usr/local/lib/python3.11/dist-packages/chromadb/api/models/Collection.py\u001b[0m in \u001b[0;36mupsert\u001b[0;34m(self, ids, embeddings, metadatas, documents, images, uris)\u001b[0m\n\u001b[1;32m    372\u001b[0m         )\n\u001b[1;32m    373\u001b[0m \u001b[0;34m\u001b[0m\u001b[0m\n\u001b[0;32m--> 374\u001b[0;31m         self._client._upsert(\n\u001b[0m\u001b[1;32m    375\u001b[0m             \u001b[0mcollection_id\u001b[0m\u001b[0;34m=\u001b[0m\u001b[0mself\u001b[0m\u001b[0;34m.\u001b[0m\u001b[0mid\u001b[0m\u001b[0;34m,\u001b[0m\u001b[0;34m\u001b[0m\u001b[0;34m\u001b[0m\u001b[0m\n\u001b[1;32m    376\u001b[0m             \u001b[0mids\u001b[0m\u001b[0;34m=\u001b[0m\u001b[0mupsert_request\u001b[0m\u001b[0;34m[\u001b[0m\u001b[0;34m\"ids\"\u001b[0m\u001b[0;34m]\u001b[0m\u001b[0;34m,\u001b[0m\u001b[0;34m\u001b[0m\u001b[0;34m\u001b[0m\u001b[0m\n",
            "\u001b[0;32m/usr/local/lib/python3.11/dist-packages/chromadb/api/rust.py\u001b[0m in \u001b[0;36m_upsert\u001b[0;34m(self, collection_id, ids, embeddings, metadatas, documents, uris, tenant, database)\u001b[0m\n\u001b[1;32m    462\u001b[0m         \u001b[0mdatabase\u001b[0m\u001b[0;34m:\u001b[0m \u001b[0mstr\u001b[0m \u001b[0;34m=\u001b[0m \u001b[0mDEFAULT_DATABASE\u001b[0m\u001b[0;34m,\u001b[0m\u001b[0;34m\u001b[0m\u001b[0;34m\u001b[0m\u001b[0m\n\u001b[1;32m    463\u001b[0m     ) -> bool:\n\u001b[0;32m--> 464\u001b[0;31m         return self.bindings.upsert(\n\u001b[0m\u001b[1;32m    465\u001b[0m             \u001b[0mstr\u001b[0m\u001b[0;34m(\u001b[0m\u001b[0mcollection_id\u001b[0m\u001b[0;34m)\u001b[0m\u001b[0;34m,\u001b[0m\u001b[0;34m\u001b[0m\u001b[0;34m\u001b[0m\u001b[0m\n\u001b[1;32m    466\u001b[0m             \u001b[0mids\u001b[0m\u001b[0;34m,\u001b[0m\u001b[0;34m\u001b[0m\u001b[0;34m\u001b[0m\u001b[0m\n",
            "\u001b[0;31mInternalError\u001b[0m: Query error: Database error: error returned from database: (code: 1032) attempt to write a readonly database"
          ]
        }
      ],
      "source": [
        "# Vector_store\n",
        "# Step 4: Clear old vectorstore (optional but safe)\n",
        "# import shutil\n",
        "# persist_directory = \"./chroma_store\"\n",
        "# if os.path.exists(persist_directory):\n",
        "#     shutil.rmtree(persist_directory)\n",
        "#     print(\"Old vectorstore cleared ♻️\")\n",
        "\n",
        "# # Step 5: Create new vectorstore\n",
        "# embedding_model = HuggingFaceEmbeddings(model_name=\"sentence-transformers/all-MiniLM-L6-v2\")\n",
        "# vectorstore = Chroma.from_documents(chunks, embedding=embedding_model, persist_directory=persist_directory)\n",
        "# vectorstore.persist()"
      ]
    },
    {
      "cell_type": "code",
      "execution_count": null,
      "metadata": {
        "colab": {
          "base_uri": "https://localhost:8080/"
        },
        "id": "K7Q-yQuxa-xQ",
        "outputId": "12c2a765-462d-41ee-ef0b-fe9408e5b487"
      },
      "outputs": [
        {
          "name": "stdout",
          "output_type": "stream",
          "text": [
            "✅ Old vectorstore cleared and new folder created at /tmp/chroma_store\n",
            "✅ New vectorstore created and persisted successfully 🎉\n"
          ]
        }
      ],
      "source": [
        "import os\n",
        "import shutil\n",
        "from langchain.vectorstores import Chroma\n",
        "from langchain.embeddings import HuggingFaceEmbeddings\n",
        "\n",
        "# ✅ Use a guaranteed writable temp path\n",
        "persist_directory = \"/tmp/chroma_store\"\n",
        "shutil.rmtree(persist_directory, ignore_errors=True)\n",
        "os.makedirs(persist_directory, exist_ok=True)\n",
        "print(f\"✅ Old vectorstore cleared and new folder created at {persist_directory}\")\n",
        "\n",
        "# ✅ Make sure 'chunks' is already defined before running this cell\n",
        "embedding_model = HuggingFaceEmbeddings(model_name=\"sentence-transformers/all-MiniLM-L6-v2\")\n",
        "vectorstore = Chroma.from_documents(\n",
        "    chunks,\n",
        "    embedding=embedding_model,\n",
        "    persist_directory=persist_directory\n",
        ")\n",
        "vectorstore.persist()\n",
        "print(\"✅ New vectorstore created and persisted successfully 🎉\")\n"
      ]
    },
    {
      "cell_type": "code",
      "execution_count": null,
      "metadata": {
        "colab": {
          "base_uri": "https://localhost:8080/"
        },
        "id": "OeJM3KSAkiyb",
        "outputId": "5d0f1b61-4616-4369-9ca3-807e38c49903"
      },
      "outputs": [
        {
          "name": "stdout",
          "output_type": "stream",
          "text": [
            "Doc ID: 78c5f8f4-4b8b-45d1-8b93-ef792f42c52a, Content: [\"hey everyone welcome back to the channel i hope you guys are doing extremely well so today we will be learning about multiple recursion calls till now you have seen recursion where we had only single uh recursion calls basically we were learning something as there was a function and inside this function only a single function was called again so over here we will be learning something of this pattern where probably we will have a function and there will be multiple function calls yes this is two times so the function is called twice or thrice or four times so you'll be learning multiple recursion calls now generically in all the problems that we'll be solving there might be two times three times four times and so on so in this video i'll be teaching you how to how to have two multiple recursion calls and going forward you will be seeing problems like end queen and other problems where you'll see multiple not only two n recursion calls being happening inside a function okay so to\"]\n",
            "Doc ID: e9d43e65-02b1-4c6d-9cd1-d3022bf916d4, Content: [\"recursion calls and going forward you will be seeing problems like end queen and other problems where you'll see multiple not only two n recursion calls being happening inside a function okay so to understand multiple recursion calls the best example is doing the fibonacci number now what is fibonacci number let's first understand basically uh the first couple of fibonacci numbers are zero and one so the next fibonacci number will be last one and the previous class so zero plus one will give you one and the next fibonacci number will be this one plus this one that's two next fibonacci number will be this one and this two three next you energy number will be this two and this three plus five next fibonacci number will be this three and this five which is definitely eight next will be 13 then it'll be 21 34 and so on okay now uh assume i call this as the zeroth fibonacci first fibonacci second fibonacci third fibonacci and so on i call it like this now the question is very\"]\n",
            "Doc ID: 32d8e242-b47f-4334-badf-8eef571c7761, Content: [\"will be 13 then it'll be 21 34 and so on okay now uh assume i call this as the zeroth fibonacci first fibonacci second fibonacci third fibonacci and so on i call it like this now the question is very straightforward you'll be given a problem you'll be given an n and you need to write a recursive function yes you need to write a recursive function which tells you which is the nth fibonacci number for an example i say f of three so it is the third fibonacci number two if i say f of four that's three if it's f of five that's five so you have to give me the nth fibonacci number now generally what did i say how did this five come up if this is f of let's say this is f of five this f of five was indeed what f of 4 plus f of 3 that is what this f of 5 was all about f of 4 plus f of 3 which is the previous one and the one before that on adding them we were getting the f of 5 correct so generally you could have done this easily using for loop you could be like we can probably write f of 0 as 0\"]\n",
            "Doc ID: d237e472-a9a4-4d3d-b7eb-dc21c3fae826, Content: [\"previous one and the one before that on adding them we were getting the f of 5 correct so generally you could have done this easily using for loop you could be like we can probably write f of 0 as 0 f of 1 as 1 and then you can easily run a loop from 2 till n and you can write f of i equal to f of i minus 1 plus f of i minus 2 it's a very simple simpler linear version that you can write using iterative for loop correct but obviously we are not here to solve fibonacci number over here we are to we have to learn recursion and that is where uh something like fibonacci plays a very important part because it's going to teach you recursion a very classical fashion so we did learn that in order to find f of n we have to know f of n minus 1 and we have to know f of n minus 2 correct that is something we did learn so in case our function takes n we know one thing for sure if n is anything great uh lesser than equal to one if it is n is zero then the answer is zero because the zero fibonacci\"]\n",
            "Doc ID: 76f53c94-9d2b-418e-bfb2-cddc9f5284e9, Content: [\"we did learn so in case our function takes n we know one thing for sure if n is anything great uh lesser than equal to one if it is n is zero then the answer is zero because the zero fibonacci number is zero if n is one the first fibonacci number is one we definitely know that correct so can i say in this case i will be returning n i mean there is no doubt in this going across what is a fibonacci of n we can be like fibonacci of n is nothing but f of n minus 1 plus f of n minus 2 without any doubt this is the answer because if i'm looking for fibonacci of n if i'm looking for fibonacci of n i have to know uh f of n minus 1 i have to know f of n minus 2. there's absolutely no doubt in it but how does this work uh if we call a couple of recursive functions do they go simultaneously how does this work in recursion so let's understand this by again taking a very very simple example so what i'll do is i'll re rewrite it to basically explain you how this works so assume i say last is f of n\"]\n",
            "Doc ID: a185b6cf-f91a-45aa-8566-064c89650741, Content: [\"this work in recursion so let's understand this by again taking a very very simple example so what i'll do is i'll re rewrite it to basically explain you how this works so assume i say last is f of n minus 1 i say a second last is equal to f of n minus 2 and then i say why don't you return last plus second last okay so if i write something like this and uh then i simply write a main where in the main i say that okay let's uh pre-assume let's take n equal to uh 4 that should make sense and we can say print fibonacci of four what if we write something like this print fibonacci of four and print fibonacci of n so basically this is going to call this guy with a value 4 this will not be executed because the value of n is 4 now if you carefully observe there are a couple of recursion calls one is this well the other one is this do they go simultaneously no first this guy will go yes first this guy will go come back then this guy will go and then come back so it happens uh what to say line\"]\n",
            "Doc ID: 5947333b-9167-43d9-a7a5-044b1d154f65, Content: [\"is this well the other one is this do they go simultaneously no first this guy will go yes first this guy will go come back then this guy will go and then come back so it happens uh what to say line by line like whichever recursion call is made first it will go and call it and after that it will go for the next one that is how recursion works right to understand this in deep let's uh let's just take this example so over here i can say this call will go and if this call goes this will call f of 3 because n minus 1 for this 4 is nothing but 3 correct so f of 3 is made now if f of 3 is made again the base case will not be executed let's understand the b scale is not executed and again the last call this time is f of two correct because minus one the second last is definitely f of one and then you are returning last plus second last so remember this recursion call is being done so our stack space will wait over here like we will be waiting at this line we will not be going beneath this\"]\n",
            "Doc ID: d612b4ce-ab73-4530-8adb-67c545cdd4cc, Content: [\"you are returning last plus second last so remember this recursion call is being done so our stack space will wait over here like we will be waiting at this line we will not be going beneath this line we will be waiting the stack space will keep this function saying that okay i'm gonna wait till this doesn't gives me this answer perfect now f of three will be like okay this is not executed f of two will be executed so again f of two will be executed and it will be like let's call f of 2 so the if line is not executed last will be f of what will be last f 1 will be second last f 0 correct so and then they can return last plus second last so if i'm calling last f of one will be called so whenever f of one is called if n lesser than equal to one gets executed you need to understand if n lesser than equal to one gets executed and it returns the value n so this basically gives you a value one because that's how it is and you can say instead of f of one now you can write one so one of the\"]\n",
            "Doc ID: 32b84851-3c2b-4532-afa4-1bb6066ee11b, Content: [\"than equal to one gets executed and it returns the value n so this basically gives you a value one because that's how it is and you can say instead of f of one now you can write one so one of the recursion calls was done and it did return you one now this recursion call will go and again call one more same function the same function in the memory but this time it will pass ns0 again the if n lesser than equal to one will be executed and this will return uh zero so this guy is returned as zero so i can write second last as zero thereby last plus second last this is one this is zero plus gives you a value 1 plus gives you a value 1 so i can say instead of f of 2 i can write 1 last is equal to 1 now coming across to second last f one again f of one will be called remember this again f of one will be called and this time again the same thing n lesser than equal to one return one will happen so this guy will return one so this guy will be getting one so last got one second last as well as\"]\n",
            "Doc ID: 8e848c14-4329-4d85-948b-a5d77c28978e, Content: [\"will be called and this time again the same thing n lesser than equal to one return one will happen so this guy will return one so this guy will be getting one so last got one second last as well as got one so one plus one gives you two so what you got over here is two correct now over here this is the case where you'll be doing for f of 2 because f of n minus 2 will be 4 minus 2 that's 2. again you will go and call these f of 2s f of 2s will go and call the last one as f 1 the second last as f of zero remember the if base condition does not execute so f of one will be called it will return one f of zero will be called it will return zero thereby returning of one plus zero last plus second last thereby this returns 1 so 2 plus 1 gives you 3 thereby f of 4 is printed as 3 because 2 plus 1 is 3 and it returns you three that's how the recursion works so if i just keep a very very uh so this is how you can see the recursion entire recursion call being happening right so i hope i hope you\"]\n",
            "Doc ID: 84002d13-a624-418c-8221-46a01b6e5037, Content: [\"is 3 and it returns you three that's how the recursion works so if i just keep a very very uh so this is how you can see the recursion entire recursion call being happening right so i hope i hope you have got a fair bit of idea about how recursion calls will be worked always remember yes always remember if there are multiple recursion calls to be done if there are multiple recursion calls this will happen come back this will happen come back this will happen come back that's how recursion calls work one is ended then the next comes one is ended then the next comes before ending the previous recursion this can never ever execute so if i if i try to uh for this particular stuff is for this particular stuff if i uh for this particular stuff if i wish to draw the recursion tree it so so if you see this it's in the this level horizontal so the recursion tree is generally vertical so you can easily draw it see this is the ff4 so you can write f of 4 so let's quickly erase this so that i can\"]\n",
            "Doc ID: 417c9364-24a7-48fe-8734-6c5afc6360ba, Content: [\"see this it's in the this level horizontal so the recursion tree is generally vertical so you can easily draw it see this is the ff4 so you can write f of 4 so let's quickly erase this so that i can write it over here so you can write f 4 whom did f of 4 called let's see f of 4 called uh whom it called f 3 was here and f 2 was here so it did call f of 3 and it did call f of 2 correct and going forward f of three called f of two and f of one f of two called f of one f of zero but remember one thing in recursion how does this happen f of four has couple of recursion calls f of three and f of two but which one gets executed first this one gets executed first so f of three is executed at the first for f of three who are the recursion calls f of two and f of one but who is executed first f 2 so please execute f of 2 first which is f 1 and f of 0 again among these both recursion calls which one is executed first f 1 so f of 1 indeed returned you a one f of zero returned you were zero so one\"]\n",
            "Doc ID: 790927d6-3d40-4708-8fd4-452a721883ac, Content: [\"please execute f of 2 first which is f 1 and f of 0 again among these both recursion calls which one is executed first f 1 so f of 1 indeed returned you a one f of zero returned you were zero so one plus zero this guy last plus second last give you one f of one returned a one so f of three got one from last second last got one so this returned you two similarly f of two will be done this gives you one this gives you zero so one plus zero will be one so two plus one will be done which gets you an ultimate answer of three this is how you can draw the recursion tree remember this we will be drawing recursion trees in tougher problems i can't like it is practically impossible to write uh every time the entire function and show you how it is being done it's practically impossible to do this so i will be writing in this fashion going forward so please please uh try to relate the horizontal uh programmatic call to the vertical recursion it's very important to relate it it's very simple f of\"]\n",
            "Doc ID: 52907393-caa4-4ee6-a08b-f0c2719b217f, Content: [\"i will be writing in this fashion going forward so please please uh try to relate the horizontal uh programmatic call to the vertical recursion it's very important to relate it it's very simple f of four whom does it call you just have to relate that for four called called last and second last so just related second last last and second last try to relate the horizontal with the vertical recursion tree okay i hope that makes uh sense so if i try to code this uh super quick it'll be like intf of int n and then i can be like if n is less than equal to one you can simply return n or else you can say there will be a last of f of n minus 1 there will be a second last of f of n minus 2 and then you can return last plus second last correct and over here you can definitely uh print f of four if you wish to and this will give you the answer you see over here you got the answers three very simple and straightforward but what about the time complexity this is a very very critical thing let's\"]\n",
            "Doc ID: 84d90203-c0f8-445d-9e9c-55392ef530c3, Content: [\"you wish to and this will give you the answer you see over here you got the answers three very simple and straightforward but what about the time complexity this is a very very critical thing let's understand the time complexity how many recursion calls did you made for n equal to four let's see first recursion call second recursion call third recursion call fourth recursion call fifth recursion call sixth recursion call seventh recursion call eighth recursion call ninth recursion call it's definitely not four recursion calls it's way way beyond that correct now if i'm asking you for every n how many recursion calls were you making you'll be like i was making a couple of recursion calls i will like make sense because for four uh you made for three and four two it it is not a unidirectional recursion call it's kind of bi-directional when you call a couple of guys so for every n you're calling two guys so for the next n minus one again you call two guys for the next n minus two again\"]\n",
            "Doc ID: 00796df4-7d90-404b-aafc-642476327f29, Content: [\"recursion call it's kind of bi-directional when you call a couple of guys so for every n you're calling two guys so for the next n minus one again you call two guys for the next n minus two again you call two guys so for every one you're calling two two two two two so can i say it's like two to the power n will be the time complexity not near not exactly why because uh from four you called for three and the other one was one lesser than three thereby it's not exactly two to the power n but you can say it's near about two to the power n which is generically known as exponential in nature if you did not understand let's understand by recursion tree see this was the first level this guy called couple of guys correct again this guy called couple of guys so if one guy calls couple and the other guy again calls couple so it's twice into twice into twice what this uh try to draw recursion trees you'll understand so if every guy is calling twice and it's like tree type it's going to be 2 into\"]\n",
            "Doc ID: 48708bee-a532-4cce-b6a1-2a15b7563694, Content: [\"guy again calls couple so it's twice into twice into twice what this uh try to draw recursion trees you'll understand so if every guy is calling twice and it's like tree type it's going to be 2 into 2 into 2 into 2 which is 2 to the power n the only reason it's not like for 4 it isn't like 2 to the power 4 equal to 16 and it is 9 recursion calls the only reason is because from 4 you're calling through 3 and then you're calling it to two down level like from four you're going to two so for every time you're like going to uh twice down there by it's not exactly two to the power n but you can see it's near about exponential in nature so this can be done using dynamic programming where you can trim down but as of now i'll not be giant programming that's coming next but this should be understandable why it is true to the power n okay just in case you still have doubts put that into the comment section put that into the comment section i will definitely reply and yes if you have understood\"]\n",
            "Doc ID: c358acdb-258b-4de4-b4b3-b2205dbcebcb, Content: [\"why it is true to the power n okay just in case you still have doubts put that into the comment section put that into the comment section i will definitely reply and yes if you have understood multiple recursion calls please please please make sure you like this video and if you're new to the channel please do consider subscribing please please do consider subscribing and yeah with this uh let's wrap up this video bye-bye [Music]\"]\n"
          ]
        }
      ],
      "source": [
        "all_ids = vectorstore._collection.get()['ids']\n",
        "for doc_id in all_ids:\n",
        "    doc = vectorstore._collection.get(ids=[doc_id])['documents']\n",
        "    print(f\"Doc ID: {doc_id}, Content: {doc}\")"
      ]
    },
    {
      "cell_type": "code",
      "execution_count": null,
      "metadata": {
        "id": "vZ-ks-EAkr3a"
      },
      "outputs": [],
      "source": [
        "# Step 4: Retriever\n",
        "retriever = vectorstore.as_retriever(search_type=\"mmr\", search_kwargs={\"k\": 4, \"fetch_k\": 10})"
      ]
    },
    {
      "cell_type": "code",
      "execution_count": null,
      "metadata": {
        "colab": {
          "base_uri": "https://localhost:8080/"
        },
        "id": "xK34WLcLxAow",
        "outputId": "3cfa3e9a-e655-4f1d-a6da-1de022954292"
      },
      "outputs": [
        {
          "data": {
            "text/plain": [
              "[Document(metadata={'source': 'https://youtube.com/watch?v=kvRjNm4rVBE'}, page_content=\"you are returning last plus second last so remember this recursion call is being done so our stack space will wait over here like we will be waiting at this line we will not be going beneath this line we will be waiting the stack space will keep this function saying that okay i'm gonna wait till this doesn't gives me this answer perfect now f of three will be like okay this is not executed f of two will be executed so again f of two will be executed and it will be like let's call f of 2 so the if line is not executed last will be f of what will be last f 1 will be second last f 0 correct so and then they can return last plus second last so if i'm calling last f of one will be called so whenever f of one is called if n lesser than equal to one gets executed you need to understand if n lesser than equal to one gets executed and it returns the value n so this basically gives you a value one because that's how it is and you can say instead of f of one now you can write one so one of the\"),\n",
              " Document(metadata={'source': 'https://youtube.com/watch?v=kvRjNm4rVBE'}, page_content=\"recursion call it's kind of bi-directional when you call a couple of guys so for every n you're calling two guys so for the next n minus one again you call two guys for the next n minus two again you call two guys so for every one you're calling two two two two two so can i say it's like two to the power n will be the time complexity not near not exactly why because uh from four you called for three and the other one was one lesser than three thereby it's not exactly two to the power n but you can say it's near about two to the power n which is generically known as exponential in nature if you did not understand let's understand by recursion tree see this was the first level this guy called couple of guys correct again this guy called couple of guys so if one guy calls couple and the other guy again calls couple so it's twice into twice into twice what this uh try to draw recursion trees you'll understand so if every guy is calling twice and it's like tree type it's going to be 2 into\"),\n",
              " Document(metadata={'source': 'https://youtube.com/watch?v=kvRjNm4rVBE'}, page_content=\"why it is true to the power n okay just in case you still have doubts put that into the comment section put that into the comment section i will definitely reply and yes if you have understood multiple recursion calls please please please make sure you like this video and if you're new to the channel please do consider subscribing please please do consider subscribing and yeah with this uh let's wrap up this video bye-bye [Music]\"),\n",
              " Document(metadata={'source': 'https://youtube.com/watch?v=kvRjNm4rVBE'}, page_content=\"previous one and the one before that on adding them we were getting the f of 5 correct so generally you could have done this easily using for loop you could be like we can probably write f of 0 as 0 f of 1 as 1 and then you can easily run a loop from 2 till n and you can write f of i equal to f of i minus 1 plus f of i minus 2 it's a very simple simpler linear version that you can write using iterative for loop correct but obviously we are not here to solve fibonacci number over here we are to we have to learn recursion and that is where uh something like fibonacci plays a very important part because it's going to teach you recursion a very classical fashion so we did learn that in order to find f of n we have to know f of n minus 1 and we have to know f of n minus 2 correct that is something we did learn so in case our function takes n we know one thing for sure if n is anything great uh lesser than equal to one if it is n is zero then the answer is zero because the zero fibonacci\")]"
            ]
          },
          "execution_count": 174,
          "metadata": {},
          "output_type": "execute_result"
        }
      ],
      "source": [
        "question = \"What is the meaning of life?\"\n",
        "retrieved_docs = retriever.invoke(question)\n",
        "retrieved_docs"
      ]
    },
    {
      "cell_type": "code",
      "execution_count": null,
      "metadata": {
        "id": "2e0qHSygxAry"
      },
      "outputs": [],
      "source": [
        "#step 4 Augmentation\n",
        "llm =  HuggingFaceEndpoint(\n",
        "    repo_id=\"HuggingFaceH4/zephyr-7b-beta\",\n",
        "    task = \"text-generation\",\n",
        "    temperature = 0.5\n",
        "    )"
      ]
    },
    {
      "cell_type": "code",
      "execution_count": null,
      "metadata": {
        "id": "npdljs9WxAuu"
      },
      "outputs": [],
      "source": [
        "prompt = PromptTemplate(\n",
        "    template=\"\"\"\n",
        "You are a helpful assistant.\n",
        "Answer ONLY from the provided transcript context below.\n",
        "If the context is insufficient, say \"I don't know\".\n",
        "\n",
        "Transcript:\n",
        "{context}\n",
        "\n",
        "Question: {question}\n",
        "Answer:\"\"\",\n",
        "    input_variables=[\"context\", \"question\"]\n",
        ")"
      ]
    },
    {
      "cell_type": "code",
      "execution_count": null,
      "metadata": {
        "id": "IKIMks2WxAxk"
      },
      "outputs": [],
      "source": [
        "def format_docs(retrieved_docs):\n",
        "  context_text = \"\\n\\n\".join(doc.page_content for doc in retrieved_docs)\n",
        "  return context_text"
      ]
    },
    {
      "cell_type": "code",
      "execution_count": null,
      "metadata": {
        "id": "A0sKiwGLxA0f"
      },
      "outputs": [],
      "source": [
        "parallel_chain = RunnableParallel({\n",
        "    'context': retriever | RunnableLambda(format_docs),\n",
        "    'question': RunnablePassthrough()\n",
        "})"
      ]
    },
    {
      "cell_type": "code",
      "execution_count": null,
      "metadata": {
        "id": "4wcOirLqxA3K"
      },
      "outputs": [],
      "source": [
        "parser = StrOutputParser()\n",
        "main_chain = parallel_chain | prompt | llm | parser"
      ]
    },
    {
      "cell_type": "code",
      "execution_count": null,
      "metadata": {
        "colab": {
          "base_uri": "https://localhost:8080/",
          "height": 70
        },
        "id": "Aq7LI2H4xA6w",
        "outputId": "c5ca1129-49e2-4da2-df54-fc4cc69fc50a"
      },
      "outputs": [
        {
          "data": {
            "application/vnd.google.colaboratory.intrinsic+json": {
              "type": "string"
            },
            "text/plain": [
              "' Yes, the video discusses recursion trees and how they help in understanding multiple recursion calls. The video explains how the time complexity of multiple recursion calls is near about 2 to the power n. The video also demonstrates how to draw recursion trees for multiple recursion calls using the example of the Fibonacci sequence.'"
            ]
          },
          "execution_count": 180,
          "metadata": {},
          "output_type": "execute_result"
        }
      ],
      "source": [
        "main_chain.invoke('is this video discused about recursion tree')"
      ]
    },
    {
      "cell_type": "code",
      "execution_count": null,
      "metadata": {
        "id": "7Vl9PRpIlP8L"
      },
      "outputs": [],
      "source": []
    }
  ],
  "metadata": {
    "colab": {
      "provenance": []
    },
    "kernelspec": {
      "display_name": "Python 3",
      "name": "python3"
    },
    "language_info": {
      "name": "python"
    }
  },
  "nbformat": 4,
  "nbformat_minor": 0
}
